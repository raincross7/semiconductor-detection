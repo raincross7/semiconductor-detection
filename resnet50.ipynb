version https://git-lfs.github.com/spec/v1
oid sha256:255307873582633c89190b73178fe3d9d8e7b1bcf8598c7141acf32ab38abf94
size 19792003
